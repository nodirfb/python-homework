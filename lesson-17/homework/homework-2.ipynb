{
 "cells": [
  {
   "cell_type": "code",
   "execution_count": null,
   "metadata": {},
   "outputs": [
    {
     "data": {
      "text/html": [
       "<div>\n",
       "<style scoped>\n",
       "    .dataframe tbody tr th:only-of-type {\n",
       "        vertical-align: middle;\n",
       "    }\n",
       "\n",
       "    .dataframe tbody tr th {\n",
       "        vertical-align: top;\n",
       "    }\n",
       "\n",
       "    .dataframe thead th {\n",
       "        text-align: right;\n",
       "    }\n",
       "</style>\n",
       "<table border=\"1\" class=\"dataframe\">\n",
       "  <thead>\n",
       "    <tr style=\"text-align: right;\">\n",
       "      <th></th>\n",
       "      <th>Month</th>\n",
       "      <th>Sales</th>\n",
       "      <th>Expenses</th>\n",
       "    </tr>\n",
       "  </thead>\n",
       "  <tbody>\n",
       "    <tr>\n",
       "      <th>0</th>\n",
       "      <td>Jan</td>\n",
       "      <td>5000</td>\n",
       "      <td>3000</td>\n",
       "    </tr>\n",
       "    <tr>\n",
       "      <th>1</th>\n",
       "      <td>Feb</td>\n",
       "      <td>6000</td>\n",
       "      <td>3500</td>\n",
       "    </tr>\n",
       "    <tr>\n",
       "      <th>2</th>\n",
       "      <td>Mar</td>\n",
       "      <td>7500</td>\n",
       "      <td>4000</td>\n",
       "    </tr>\n",
       "    <tr>\n",
       "      <th>3</th>\n",
       "      <td>Apr</td>\n",
       "      <td>8000</td>\n",
       "      <td>4500</td>\n",
       "    </tr>\n",
       "  </tbody>\n",
       "</table>\n",
       "</div>"
      ],
      "text/plain": [
       "  Month  Sales  Expenses\n",
       "0   Jan   5000      3000\n",
       "1   Feb   6000      3500\n",
       "2   Mar   7500      4000\n",
       "3   Apr   8000      4500"
      ]
     },
     "execution_count": 3,
     "metadata": {},
     "output_type": "execute_result"
    }
   ],
   "source": [
    "# 1. Create a DataFrame named sales_and_expenses with columns 'Month', 'Sales', and 'Expenses', representing monthly sales and expenses data.\n",
    "# Use below table.\n",
    "\n",
    "# | Month | Sales | Expenses |\n",
    "# |-------|-------|----------|\n",
    "# | Jan   | 5000  | 3000     |\n",
    "# | Feb   | 6000  | 3500     |\n",
    "# | Mar   | 7500  | 4000     |\n",
    "# | Apr   | 8000  | 4500     |\n",
    "import pandas as pd\n",
    "\n",
    "sales_and_expenses = pd.DataFrame({'Month':['Jan','Feb','Mar','Apr'],'Sales':[5000,6000,7500,8000],'Expenses':[3000,3500,4000,4500]})\n",
    "sales_and_expenses"
   ]
  },
  {
   "cell_type": "code",
   "execution_count": 5,
   "metadata": {},
   "outputs": [
    {
     "name": "stdout",
     "output_type": "stream",
     "text": [
      "8000\n",
      "4500\n"
     ]
    }
   ],
   "source": [
    "# 2. Calculate and display the maximum sales and expenses.\n",
    "print(sales_and_expenses['Sales'].max())\n",
    "print(sales_and_expenses['Expenses'].max())"
   ]
  },
  {
   "cell_type": "code",
   "execution_count": 6,
   "metadata": {},
   "outputs": [
    {
     "name": "stdout",
     "output_type": "stream",
     "text": [
      "5000\n",
      "3000\n"
     ]
    }
   ],
   "source": [
    "# 3. Calculate and display the minimum sales and expenses.\n",
    "print(sales_and_expenses['Sales'].min())\n",
    "print(sales_and_expenses['Expenses'].min())"
   ]
  },
  {
   "cell_type": "code",
   "execution_count": 7,
   "metadata": {},
   "outputs": [
    {
     "name": "stdout",
     "output_type": "stream",
     "text": [
      "6625.0\n",
      "3750.0\n"
     ]
    }
   ],
   "source": [
    "# 4. Calculate and display the average sales and expenses.\n",
    "print(sales_and_expenses['Sales'].mean())\n",
    "print(sales_and_expenses['Expenses'].mean())"
   ]
  }
 ],
 "metadata": {
  "kernelspec": {
   "display_name": "Python 3",
   "language": "python",
   "name": "python3"
  },
  "language_info": {
   "codemirror_mode": {
    "name": "ipython",
    "version": 3
   },
   "file_extension": ".py",
   "mimetype": "text/x-python",
   "name": "python",
   "nbconvert_exporter": "python",
   "pygments_lexer": "ipython3",
   "version": "3.12.8"
  }
 },
 "nbformat": 4,
 "nbformat_minor": 2
}
