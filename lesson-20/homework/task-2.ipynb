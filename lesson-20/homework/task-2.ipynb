{
 "cells": [
  {
   "cell_type": "code",
   "execution_count": 117,
   "metadata": {},
   "outputs": [],
   "source": [
    "import pandas as pd\n",
    "import sqlite3\n"
   ]
  },
  {
   "cell_type": "markdown",
   "metadata": {},
   "source": [
    "2. Album vs. Individual Track Purchases:\n",
    "\n",
    "- Determine the percentage of customers who prefer to buy individual tracks instead of full albums.\n",
    "- A customer is considered to prefer individual tracks if they have purchased only a subset of tracks from an album.\n",
    "- Provide a summary of the percentage of customers who fall into each category (individual tracks vs. full albums)."
   ]
  },
  {
   "cell_type": "code",
   "execution_count": 148,
   "metadata": {},
   "outputs": [],
   "source": [
    "conn = sqlite3.connect('chinook.db')\n",
    "cursor = conn.cursor()\n",
    "\n",
    "tables = pd.read_sql_query(\"select name from sqlite_master WHERE type='table'\",conn)\n",
    "dfs={}\n",
    "for i in tables['name']:\n",
    "    dfs[i]=pd.read_sql_query(f'select * from {i}',conn)"
   ]
  },
  {
   "cell_type": "code",
   "execution_count": 149,
   "metadata": {},
   "outputs": [
    {
     "name": "stdout",
     "output_type": "stream",
     "text": [
      "Total customers: 5\n",
      "Customers who prefer to buy indvidual tracs: 2, 40%\n",
      "Customers who prefer to buy full albums: 3, 60%\n"
     ]
    }
   ],
   "source": [
    "track_count_album = dfs['tracks'].groupby('AlbumId')['TrackId'].count().reset_index()\n",
    "\n",
    "ff = pd.merge(dfs['invoice_lines'],dfs['tracks'],on='TrackId').merge(dfs['invoices'],on='InvoiceId')\n",
    "track_count_purch = ff[['CustomerId','AlbumId','TrackId']].groupby(['CustomerId','AlbumId']).agg(count_tracks=('TrackId','count')).reset_index()\n",
    "\n",
    "result = pd.merge(track_count_purch,track_count_album,how='outer',left_on=['AlbumId','count_tracks'], right_on=['AlbumId','TrackId'],indicator=True)\n",
    "\n",
    "n_track_buy_customers = result[result['_merge'] != 'both']['CustomerId'].nunique()\n",
    "n_album_buy_customers = result[result['_merge']=='both']['CustomerId'].nunique()\n",
    "\n",
    "n_customers = dfs['customers']['CustomerId'].nunique()\n",
    "\n",
    "\n",
    "print(f'Total customers: {n_customers}')\n",
    "print(f'Customers who prefer to buy indvidual tracs: {n_track_buy_customers}, {int(n_track_buy_customers / n_customers * 100)}%')\n",
    "print(f'Customers who prefer to buy full albums: {n_album_buy_customers}, {int(n_album_buy_customers / n_customers * 100)}%')"
   ]
  }
 ],
 "metadata": {
  "kernelspec": {
   "display_name": "Python 3",
   "language": "python",
   "name": "python3"
  },
  "language_info": {
   "codemirror_mode": {
    "name": "ipython",
    "version": 3
   },
   "file_extension": ".py",
   "mimetype": "text/x-python",
   "name": "python",
   "nbconvert_exporter": "python",
   "pygments_lexer": "ipython3",
   "version": "3.12.8"
  }
 },
 "nbformat": 4,
 "nbformat_minor": 2
}
